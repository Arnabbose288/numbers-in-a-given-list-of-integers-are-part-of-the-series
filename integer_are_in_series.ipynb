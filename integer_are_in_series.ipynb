{
 "cells": [
  {
   "cell_type": "markdown",
   "id": "67daafb7",
   "metadata": {},
   "source": [
    "#### Python code to find if all the numbers in a given list of integers are part of the series defined by the following.      f(0) = 0 f(1) = 1 f(n) = 9*f(n-1) - 7*f(n-2) for all n > 1"
   ]
  },
  {
   "cell_type": "code",
   "execution_count": 5,
   "id": "5d440d09",
   "metadata": {},
   "outputs": [
    {
     "name": "stdout",
     "output_type": "stream",
     "text": [
      "[1, 0, 9, 74, 603, 4909, 39960, 325277, 2647773, 21553018, 175442751]\n"
     ]
    }
   ],
   "source": [
    "result = {}\n",
    "def is_part_of_series(n):\n",
    "    if n == 0:\n",
    "        result[n] = 0\n",
    "        return 0\n",
    "    elif n == 1:\n",
    "        result[n] = 1\n",
    "        return 1\n",
    "    else:\n",
    "        val = 9*is_part_of_series(n-1) - 7*is_part_of_series(n-2)\n",
    "        result[n] = val\n",
    "        return val\n",
    "\n",
    "is_part_of_series(10)\n",
    "print(list(result.values()))"
   ]
  },
  {
   "cell_type": "code",
   "execution_count": 6,
   "id": "2c14e55a",
   "metadata": {},
   "outputs": [
    {
     "name": "stdout",
     "output_type": "stream",
     "text": [
      "{0, 1, 2647773, 9, 74, 4909, 39960, 21553018, 603, 325277, 175442751}\n"
     ]
    }
   ],
   "source": [
    "result = {}\n",
    "def is_part_of_series(n):\n",
    "    if n == 0:\n",
    "        result[n] = 0\n",
    "        return 0\n",
    "    elif n == 1:\n",
    "        result[n] = 1\n",
    "        return 1\n",
    "    else:\n",
    "        val = 9*is_part_of_series(n-1) - 7*is_part_of_series(n-2)\n",
    "        result[n] = val\n",
    "        return val\n",
    "\n",
    "is_part_of_series(10)\n",
    "print(set(result.values()))"
   ]
  },
  {
   "cell_type": "code",
   "execution_count": null,
   "id": "e90706fe",
   "metadata": {},
   "outputs": [],
   "source": []
  },
  {
   "cell_type": "code",
   "execution_count": null,
   "id": "71171f2f",
   "metadata": {},
   "outputs": [],
   "source": []
  }
 ],
 "metadata": {
  "kernelspec": {
   "display_name": "Python 3",
   "language": "python",
   "name": "python3"
  },
  "language_info": {
   "codemirror_mode": {
    "name": "ipython",
    "version": 3
   },
   "file_extension": ".py",
   "mimetype": "text/x-python",
   "name": "python",
   "nbconvert_exporter": "python",
   "pygments_lexer": "ipython3",
   "version": "3.8.8"
  }
 },
 "nbformat": 4,
 "nbformat_minor": 5
}
